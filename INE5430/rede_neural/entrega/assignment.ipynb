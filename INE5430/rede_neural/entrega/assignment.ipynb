{
 "cells": [
  {
   "cell_type": "code",
   "execution_count": 1,
   "metadata": {},
   "outputs": [],
   "source": [
    "import numpy as np\n",
    "import pandas as pd"
   ]
  },
  {
   "cell_type": "code",
   "execution_count": 2,
   "metadata": {},
   "outputs": [],
   "source": [
    "df_train = pd.read_csv('data/fashion-mnist_train.csv')\n",
    "df_test = pd.read_csv('data/fashion-mnist_test.csv')"
   ]
  },
  {
   "cell_type": "code",
   "execution_count": 3,
   "metadata": {},
   "outputs": [
    {
     "data": {
      "text/html": [
       "<div>\n",
       "<style scoped>\n",
       "    .dataframe tbody tr th:only-of-type {\n",
       "        vertical-align: middle;\n",
       "    }\n",
       "\n",
       "    .dataframe tbody tr th {\n",
       "        vertical-align: top;\n",
       "    }\n",
       "\n",
       "    .dataframe thead th {\n",
       "        text-align: right;\n",
       "    }\n",
       "</style>\n",
       "<table border=\"1\" class=\"dataframe\">\n",
       "  <thead>\n",
       "    <tr style=\"text-align: right;\">\n",
       "      <th></th>\n",
       "      <th>label</th>\n",
       "      <th>pixel1</th>\n",
       "      <th>pixel2</th>\n",
       "      <th>pixel3</th>\n",
       "      <th>pixel4</th>\n",
       "      <th>pixel5</th>\n",
       "      <th>pixel6</th>\n",
       "      <th>pixel7</th>\n",
       "      <th>pixel8</th>\n",
       "      <th>pixel9</th>\n",
       "      <th>...</th>\n",
       "      <th>pixel775</th>\n",
       "      <th>pixel776</th>\n",
       "      <th>pixel777</th>\n",
       "      <th>pixel778</th>\n",
       "      <th>pixel779</th>\n",
       "      <th>pixel780</th>\n",
       "      <th>pixel781</th>\n",
       "      <th>pixel782</th>\n",
       "      <th>pixel783</th>\n",
       "      <th>pixel784</th>\n",
       "    </tr>\n",
       "  </thead>\n",
       "  <tbody>\n",
       "    <tr>\n",
       "      <th>0</th>\n",
       "      <td>2</td>\n",
       "      <td>0</td>\n",
       "      <td>0</td>\n",
       "      <td>0</td>\n",
       "      <td>0</td>\n",
       "      <td>0</td>\n",
       "      <td>0</td>\n",
       "      <td>0</td>\n",
       "      <td>0</td>\n",
       "      <td>0</td>\n",
       "      <td>...</td>\n",
       "      <td>0</td>\n",
       "      <td>0</td>\n",
       "      <td>0</td>\n",
       "      <td>0</td>\n",
       "      <td>0</td>\n",
       "      <td>0</td>\n",
       "      <td>0</td>\n",
       "      <td>0</td>\n",
       "      <td>0</td>\n",
       "      <td>0</td>\n",
       "    </tr>\n",
       "    <tr>\n",
       "      <th>1</th>\n",
       "      <td>9</td>\n",
       "      <td>0</td>\n",
       "      <td>0</td>\n",
       "      <td>0</td>\n",
       "      <td>0</td>\n",
       "      <td>0</td>\n",
       "      <td>0</td>\n",
       "      <td>0</td>\n",
       "      <td>0</td>\n",
       "      <td>0</td>\n",
       "      <td>...</td>\n",
       "      <td>0</td>\n",
       "      <td>0</td>\n",
       "      <td>0</td>\n",
       "      <td>0</td>\n",
       "      <td>0</td>\n",
       "      <td>0</td>\n",
       "      <td>0</td>\n",
       "      <td>0</td>\n",
       "      <td>0</td>\n",
       "      <td>0</td>\n",
       "    </tr>\n",
       "    <tr>\n",
       "      <th>2</th>\n",
       "      <td>6</td>\n",
       "      <td>0</td>\n",
       "      <td>0</td>\n",
       "      <td>0</td>\n",
       "      <td>0</td>\n",
       "      <td>0</td>\n",
       "      <td>0</td>\n",
       "      <td>0</td>\n",
       "      <td>5</td>\n",
       "      <td>0</td>\n",
       "      <td>...</td>\n",
       "      <td>0</td>\n",
       "      <td>0</td>\n",
       "      <td>0</td>\n",
       "      <td>30</td>\n",
       "      <td>43</td>\n",
       "      <td>0</td>\n",
       "      <td>0</td>\n",
       "      <td>0</td>\n",
       "      <td>0</td>\n",
       "      <td>0</td>\n",
       "    </tr>\n",
       "    <tr>\n",
       "      <th>3</th>\n",
       "      <td>0</td>\n",
       "      <td>0</td>\n",
       "      <td>0</td>\n",
       "      <td>0</td>\n",
       "      <td>1</td>\n",
       "      <td>2</td>\n",
       "      <td>0</td>\n",
       "      <td>0</td>\n",
       "      <td>0</td>\n",
       "      <td>0</td>\n",
       "      <td>...</td>\n",
       "      <td>3</td>\n",
       "      <td>0</td>\n",
       "      <td>0</td>\n",
       "      <td>0</td>\n",
       "      <td>0</td>\n",
       "      <td>1</td>\n",
       "      <td>0</td>\n",
       "      <td>0</td>\n",
       "      <td>0</td>\n",
       "      <td>0</td>\n",
       "    </tr>\n",
       "    <tr>\n",
       "      <th>4</th>\n",
       "      <td>3</td>\n",
       "      <td>0</td>\n",
       "      <td>0</td>\n",
       "      <td>0</td>\n",
       "      <td>0</td>\n",
       "      <td>0</td>\n",
       "      <td>0</td>\n",
       "      <td>0</td>\n",
       "      <td>0</td>\n",
       "      <td>0</td>\n",
       "      <td>...</td>\n",
       "      <td>0</td>\n",
       "      <td>0</td>\n",
       "      <td>0</td>\n",
       "      <td>0</td>\n",
       "      <td>0</td>\n",
       "      <td>0</td>\n",
       "      <td>0</td>\n",
       "      <td>0</td>\n",
       "      <td>0</td>\n",
       "      <td>0</td>\n",
       "    </tr>\n",
       "  </tbody>\n",
       "</table>\n",
       "<p>5 rows × 785 columns</p>\n",
       "</div>"
      ],
      "text/plain": [
       "   label  pixel1  pixel2  pixel3  pixel4  pixel5  pixel6  pixel7  pixel8  \\\n",
       "0      2       0       0       0       0       0       0       0       0   \n",
       "1      9       0       0       0       0       0       0       0       0   \n",
       "2      6       0       0       0       0       0       0       0       5   \n",
       "3      0       0       0       0       1       2       0       0       0   \n",
       "4      3       0       0       0       0       0       0       0       0   \n",
       "\n",
       "   pixel9  ...  pixel775  pixel776  pixel777  pixel778  pixel779  pixel780  \\\n",
       "0       0  ...         0         0         0         0         0         0   \n",
       "1       0  ...         0         0         0         0         0         0   \n",
       "2       0  ...         0         0         0        30        43         0   \n",
       "3       0  ...         3         0         0         0         0         1   \n",
       "4       0  ...         0         0         0         0         0         0   \n",
       "\n",
       "   pixel781  pixel782  pixel783  pixel784  \n",
       "0         0         0         0         0  \n",
       "1         0         0         0         0  \n",
       "2         0         0         0         0  \n",
       "3         0         0         0         0  \n",
       "4         0         0         0         0  \n",
       "\n",
       "[5 rows x 785 columns]"
      ]
     },
     "execution_count": 3,
     "metadata": {},
     "output_type": "execute_result"
    }
   ],
   "source": [
    "df_train.head()"
   ]
  },
  {
   "cell_type": "code",
   "execution_count": 4,
   "metadata": {},
   "outputs": [
    {
     "name": "stdout",
     "output_type": "stream",
     "text": [
      "<class 'pandas.core.frame.DataFrame'>\n",
      "RangeIndex: 60000 entries, 0 to 59999\n",
      "Columns: 785 entries, label to pixel784\n",
      "dtypes: int64(785)\n",
      "memory usage: 359.3 MB\n"
     ]
    }
   ],
   "source": [
    "df_train.info()"
   ]
  },
  {
   "cell_type": "code",
   "execution_count": 5,
   "metadata": {},
   "outputs": [
    {
     "name": "stdout",
     "output_type": "stream",
     "text": [
      "Shape.\n",
      "Rows: 60000. Columns: 785\n",
      "Unique labels: 10\n"
     ]
    }
   ],
   "source": [
    "print(f'Shape.\\nRows: {df_train.shape[0]}. Columns: { df_train.shape[1]}')\n",
    "print('Unique labels:', df_train['label'].nunique())"
   ]
  },
  {
   "cell_type": "code",
   "execution_count": 6,
   "metadata": {},
   "outputs": [
    {
     "data": {
      "text/plain": [
       "9    6000\n",
       "8    6000\n",
       "7    6000\n",
       "6    6000\n",
       "5    6000\n",
       "4    6000\n",
       "3    6000\n",
       "2    6000\n",
       "1    6000\n",
       "0    6000\n",
       "Name: label, dtype: int64"
      ]
     },
     "execution_count": 6,
     "metadata": {},
     "output_type": "execute_result"
    }
   ],
   "source": [
    "df_train['label'].value_counts()"
   ]
  },
  {
   "cell_type": "code",
   "execution_count": 7,
   "metadata": {},
   "outputs": [
    {
     "data": {
      "text/plain": [
       "7    1000\n",
       "6    1000\n",
       "5    1000\n",
       "4    1000\n",
       "3    1000\n",
       "2    1000\n",
       "9    1000\n",
       "1    1000\n",
       "8    1000\n",
       "0    1000\n",
       "Name: label, dtype: int64"
      ]
     },
     "execution_count": 7,
     "metadata": {},
     "output_type": "execute_result"
    }
   ],
   "source": [
    "df_test['label'].value_counts()"
   ]
  },
  {
   "cell_type": "code",
   "execution_count": 8,
   "metadata": {},
   "outputs": [],
   "source": [
    "def prepare_data(df, label_col, name):\n",
    "    print('--------------------')\n",
    "    print(f'{name} data stats: ')\n",
    "    print(f'Rows: {df.shape[0]}. Columns: { df.shape[1]}')\n",
    "    print('Unique labels:', df['label'].nunique())\n",
    "    y = df[label_col]\n",
    "    features = list(df.columns)\n",
    "    features.remove(label_col)\n",
    "    X = df[features]\n",
    "    print(f'X_{name}: {X.shape}, y_{name}: {y.shape}')\n",
    "    print('--------------------')\n",
    "    return X, y"
   ]
  },
  {
   "cell_type": "code",
   "execution_count": 9,
   "metadata": {},
   "outputs": [],
   "source": [
    "from sklearn.neural_network import MLPClassifier"
   ]
  },
  {
   "cell_type": "code",
   "execution_count": 10,
   "metadata": {},
   "outputs": [
    {
     "name": "stdout",
     "output_type": "stream",
     "text": [
      "--------------------\n",
      "train data stats: \n",
      "Rows: 60000. Columns: 785\n",
      "Unique labels: 10\n",
      "X_train: (60000, 784), y_train: (60000,)\n",
      "--------------------\n",
      "--------------------\n",
      "test data stats: \n",
      "Rows: 10000. Columns: 785\n",
      "Unique labels: 10\n",
      "X_test: (10000, 784), y_test: (10000,)\n",
      "--------------------\n"
     ]
    }
   ],
   "source": [
    "X_train, y_train = prepare_data(df_train, 'label', 'train')\n",
    "X_test, y_test = prepare_data(df_test, 'label', 'test')"
   ]
  },
  {
   "cell_type": "code",
   "execution_count": 11,
   "metadata": {},
   "outputs": [],
   "source": [
    "from sklearn.preprocessing import OneHotEncoder\n",
    "\n",
    "one_hot_y = OneHotEncoder()\n",
    "one_hot_y.fit(y_train.to_numpy().reshape(-1, 1))\n",
    "\n",
    "y_train_transformed = one_hot_y.transform(y_train.to_numpy().reshape(-1, 1)).toarray()\n",
    "y_test_transformed = one_hot_y.transform(y_test.to_numpy().reshape(-1, 1)).toarray()"
   ]
  },
  {
   "cell_type": "code",
   "execution_count": 12,
   "metadata": {},
   "outputs": [
    {
     "data": {
      "text/plain": [
       "{0: array([1., 0., 0., 0., 0., 0., 0., 0., 0., 0.]),\n",
       " 1: array([0., 1., 0., 0., 0., 0., 0., 0., 0., 0.]),\n",
       " 2: array([0., 0., 1., 0., 0., 0., 0., 0., 0., 0.]),\n",
       " 3: array([0., 0., 0., 1., 0., 0., 0., 0., 0., 0.]),\n",
       " 4: array([0., 0., 0., 0., 1., 0., 0., 0., 0., 0.]),\n",
       " 5: array([0., 0., 0., 0., 0., 1., 0., 0., 0., 0.]),\n",
       " 6: array([0., 0., 0., 0., 0., 0., 1., 0., 0., 0.]),\n",
       " 7: array([0., 0., 0., 0., 0., 0., 0., 1., 0., 0.]),\n",
       " 8: array([0., 0., 0., 0., 0., 0., 0., 0., 1., 0.]),\n",
       " 9: array([0., 0., 0., 0., 0., 0., 0., 0., 0., 1.])}"
      ]
     },
     "execution_count": 12,
     "metadata": {},
     "output_type": "execute_result"
    }
   ],
   "source": [
    "one_hot_encoded = one_hot_y.transform(np.array(one_hot_y.categories_).reshape(-1, 1)).toarray()\n",
    "dict(zip(one_hot_y.categories_[0], one_hot_encoded))"
   ]
  },
  {
   "cell_type": "code",
   "execution_count": 13,
   "metadata": {},
   "outputs": [
    {
     "data": {
      "text/plain": [
       "{'T-shirt/top': 0,\n",
       " 'Trouser': 1,\n",
       " 'Pullover': 2,\n",
       " 'Dress': 3,\n",
       " 'Coat': 4,\n",
       " 'Sandal': 5,\n",
       " 'Shirt': 6,\n",
       " 'Sneaker': 7,\n",
       " 'Bag': 8,\n",
       " 'Ankle boo': 9}"
      ]
     },
     "execution_count": 13,
     "metadata": {},
     "output_type": "execute_result"
    }
   ],
   "source": [
    "categorical_classes = [\"T-shirt/top\", \"Trouser\", \"Pullover\", \"Dress\",\n",
    "                       \"Coat\", \"Sandal\", \"Shirt\", \"Sneaker\", \"Bag\", \"Ankle boo\"]\n",
    "classes_dict = dict(zip(categorical_classes, one_hot_y.categories_[0]))\n",
    "classes_dict"
   ]
  },
  {
   "cell_type": "code",
   "execution_count": 14,
   "metadata": {},
   "outputs": [
    {
     "data": {
      "text/plain": [
       "255"
      ]
     },
     "execution_count": 14,
     "metadata": {},
     "output_type": "execute_result"
    }
   ],
   "source": [
    "X_train.max().max()"
   ]
  },
  {
   "cell_type": "code",
   "execution_count": 15,
   "metadata": {},
   "outputs": [],
   "source": [
    "from sklearn.preprocessing import MinMaxScaler\n",
    "scaler = MinMaxScaler().fit(X_train)\n",
    "X_train_scaled = scaler.transform(X_train)\n",
    "X_test_scaled = scaler.transform(X_test)"
   ]
  },
  {
   "cell_type": "code",
   "execution_count": 16,
   "metadata": {},
   "outputs": [
    {
     "name": "stdout",
     "output_type": "stream",
     "text": [
      "X_train:        max=255, min=0\n",
      "X_train_scaled: max=1.0, min=0.0\n",
      "X_test_scaled:  max=1.308641975308642, min=0.0\n"
     ]
    }
   ],
   "source": [
    "print(f\"X_train:        max={X_train.max().max()}, min={X_train.min().min()}\")\n",
    "print(f\"X_train_scaled: max={X_train_scaled.max().max()}, min={X_train_scaled.min().min()}\")\n",
    "print(f\"X_test_scaled:  max={X_test_scaled.max().max()}, min={X_test_scaled.min().min()}\")"
   ]
  },
  {
   "cell_type": "code",
   "execution_count": 17,
   "metadata": {},
   "outputs": [],
   "source": [
    "# param1 = {'activation':'logistic', \n",
    "#            'solver':'adam', \n",
    "#            'alpha':0.0001, \n",
    "#            'max_iter':100, \n",
    "#            'random_state':42, \n",
    "#            'early_stopping':True,\n",
    "#          }"
   ]
  },
  {
   "cell_type": "code",
   "execution_count": 18,
   "metadata": {},
   "outputs": [],
   "source": [
    "param_set = [\n",
    "    { \n",
    "    'hidden_layer_sizes': (50,),\n",
    "    'activation':'logistic', \n",
    "    'solver':'adam', \n",
    "    'alpha':0.0001, \n",
    "    'max_iter':200, \n",
    "    'random_state':42, \n",
    "    'early_stopping':True\n",
    "},\n",
    "{ \n",
    "    'hidden_layer_sizes': (50,),\n",
    "    'activation':'logistic', \n",
    "    'solver':'adam', \n",
    "    'alpha':0.001, \n",
    "    'max_iter':200, \n",
    "    'random_state':42, \n",
    "    'early_stopping':True\n",
    "},\n",
    "{ \n",
    "    'hidden_layer_sizes': (50,),\n",
    "    'activation':'logistic', \n",
    "    'solver':'adam', \n",
    "    'alpha':0.00001, \n",
    "    'max_iter':200, \n",
    "    'random_state':42, \n",
    "    'early_stopping':True\n",
    "},\n",
    "{ \n",
    "    'hidden_layer_sizes': (50,),\n",
    "    'activation':'relu', \n",
    "    'solver':'adam', \n",
    "    'alpha':0.0001, \n",
    "    'max_iter':200, \n",
    "    'random_state':42, \n",
    "    'early_stopping':True\n",
    "},\n",
    "{ \n",
    "    'hidden_layer_sizes': (50,),\n",
    "    'activation':'relu', \n",
    "    'solver':'adam', \n",
    "    'alpha':0.001, \n",
    "    'max_iter':200, \n",
    "    'random_state':42, \n",
    "    'early_stopping':True\n",
    "},\n",
    "{ \n",
    "    'hidden_layer_sizes': (50,),\n",
    "    'activation':'relu', \n",
    "    'solver':'adam', \n",
    "    'alpha':0.00001, \n",
    "    'max_iter':200, \n",
    "    'random_state':42, \n",
    "    'early_stopping':True\n",
    "},\n",
    "\n",
    "{ \n",
    "    'hidden_layer_sizes': (100,),\n",
    "    'activation':'logistic', \n",
    "    'solver':'adam', \n",
    "    'alpha':0.0001, \n",
    "    'max_iter':200, \n",
    "    'random_state':42, \n",
    "    'early_stopping':True\n",
    "},\n",
    "{ \n",
    "    'hidden_layer_sizes': (100,),\n",
    "    'activation':'logistic', \n",
    "    'solver':'adam', \n",
    "    'alpha':0.001, \n",
    "    'max_iter':200, \n",
    "    'random_state':42, \n",
    "    'early_stopping':True\n",
    "},\n",
    "{ \n",
    "    'hidden_layer_sizes': (100,),\n",
    "    'activation':'logistic', \n",
    "    'solver':'adam', \n",
    "    'alpha':0.00001, \n",
    "    'max_iter':200, \n",
    "    'random_state':42, \n",
    "    'early_stopping':True\n",
    "},\n",
    "{ \n",
    "    'hidden_layer_sizes': (100,),\n",
    "    'activation':'relu', \n",
    "    'solver':'adam', \n",
    "    'alpha':0.0001, \n",
    "    'max_iter':200, \n",
    "    'random_state':42, \n",
    "    'early_stopping':True\n",
    "},\n",
    "{ \n",
    "    'hidden_layer_sizes': (100,),\n",
    "    'activation':'relu', \n",
    "    'solver':'adam', \n",
    "    'alpha':0.001, \n",
    "    'max_iter':200, \n",
    "    'random_state':42, \n",
    "    'early_stopping':True\n",
    "},\n",
    "{ \n",
    "    'hidden_layer_sizes': (100,),\n",
    "    'activation':'relu', \n",
    "    'solver':'adam', \n",
    "    'alpha':0.00001, \n",
    "    'max_iter':200, \n",
    "    'random_state':42, \n",
    "    'early_stopping':True\n",
    "},\n",
    "\n",
    "{ \n",
    "    'hidden_layer_sizes': (200,),\n",
    "    'activation':'logistic', \n",
    "    'solver':'adam', \n",
    "    'alpha':0.0001, \n",
    "    'max_iter':200, \n",
    "    'random_state':42, \n",
    "    'early_stopping':True\n",
    "},\n",
    "{ \n",
    "    'hidden_layer_sizes': (200,),\n",
    "    'activation':'logistic', \n",
    "    'solver':'adam', \n",
    "    'alpha':0.001, \n",
    "    'max_iter':200, \n",
    "    'random_state':42, \n",
    "    'early_stopping':True\n",
    "},\n",
    "{ \n",
    "    'hidden_layer_sizes': (200,),\n",
    "    'activation':'logistic', \n",
    "    'solver':'adam', \n",
    "    'alpha':0.00001, \n",
    "    'max_iter':200, \n",
    "    'random_state':42, \n",
    "    'early_stopping':True\n",
    "},\n",
    "{ \n",
    "    'hidden_layer_sizes': (200,),\n",
    "    'activation':'relu', \n",
    "    'solver':'adam', \n",
    "    'alpha':0.0001, \n",
    "    'max_iter':200, \n",
    "    'random_state':42, \n",
    "    'early_stopping':True\n",
    "},\n",
    "{ \n",
    "    'hidden_layer_sizes': (200,),\n",
    "    'activation':'relu', \n",
    "    'solver':'adam', \n",
    "    'alpha':0.001, \n",
    "    'max_iter':200, \n",
    "    'random_state':42, \n",
    "    'early_stopping':True\n",
    "},\n",
    "{ \n",
    "    'hidden_layer_sizes': (200,),\n",
    "    'activation':'relu', \n",
    "    'solver':'adam', \n",
    "    'alpha':0.00001, \n",
    "    'max_iter':200, \n",
    "    'random_state':42, \n",
    "    'early_stopping':True\n",
    "},\n",
    "\n",
    "{ \n",
    "    'hidden_layer_sizes': (200,200),\n",
    "    'activation':'logistic', \n",
    "    'solver':'adam', \n",
    "    'alpha':0.0001, \n",
    "    'max_iter':200, \n",
    "    'random_state':42, \n",
    "    'early_stopping':True\n",
    "},\n",
    "{ \n",
    "    'hidden_layer_sizes': (200,200),\n",
    "    'activation':'logistic', \n",
    "    'solver':'adam', \n",
    "    'alpha':0.001, \n",
    "    'max_iter':200, \n",
    "    'random_state':42, \n",
    "    'early_stopping':True\n",
    "},\n",
    "{ \n",
    "    'hidden_layer_sizes': (200,200),\n",
    "    'activation':'logistic', \n",
    "    'solver':'adam', \n",
    "    'alpha':0.00001, \n",
    "    'max_iter':200, \n",
    "    'random_state':42, \n",
    "    'early_stopping':True\n",
    "},\n",
    "{ \n",
    "    'hidden_layer_sizes': (200,200),\n",
    "    'activation':'relu', \n",
    "    'solver':'adam', \n",
    "    'alpha':0.0001, \n",
    "    'max_iter':200, \n",
    "    'random_state':42, \n",
    "    'early_stopping':True\n",
    "},\n",
    "{ \n",
    "    'hidden_layer_sizes': (200,200),\n",
    "    'activation':'relu', \n",
    "    'solver':'adam', \n",
    "    'alpha':0.001, \n",
    "    'max_iter':200, \n",
    "    'random_state':42, \n",
    "    'early_stopping':True\n",
    "},\n",
    "{ \n",
    "    'hidden_layer_sizes': (200,200),\n",
    "    'activation':'relu', \n",
    "    'solver':'adam', \n",
    "    'alpha':0.00001, \n",
    "    'max_iter':200, \n",
    "    'random_state':42, \n",
    "    'early_stopping':True\n",
    "},\n",
    "]"
   ]
  },
  {
   "cell_type": "code",
   "execution_count": 22,
   "metadata": {},
   "outputs": [],
   "source": [
    "def experiment(classifier_params, X_train, y_train, X_test, y_test):\n",
    "    print('--------------------')\n",
    "    print(f'Parameters: {classifier_params}')\n",
    "    classifier = MLPClassifier(**classifier_params)\n",
    "    classifier.fit(X_train, y_train)\n",
    "    train_acc = classifier.score(X_train, y_train)\n",
    "    test_acc = classifier.score(X_test, y_test)\n",
    "    print(f'Acc train: {train_acc}. Acc test: {test_acc}. Epochs: {classifier.n_iter_}')\n",
    "    print('--------------------')\n",
    "    return classifier, test_acc"
   ]
  },
  {
   "cell_type": "code",
   "execution_count": 23,
   "metadata": {},
   "outputs": [],
   "source": [
    "# clf, acc = experiment(param1, X_train_scaled, y_train_transformed, X_test_scaled, y_test_transformed)"
   ]
  },
  {
   "cell_type": "code",
   "execution_count": 24,
   "metadata": {},
   "outputs": [
    {
     "name": "stdout",
     "output_type": "stream",
     "text": [
      "--------------------\n",
      "Parameters: {'hidden_layer_sizes': (50,), 'activation': 'logistic', 'solver': 'adam', 'alpha': 0.0001, 'max_iter': 200, 'random_state': 42, 'early_stopping': True}\n",
      "Acc train: 0.8832833333333333. Acc test: 0.8513. Epochs: 80\n",
      "--------------------\n",
      "--------------------\n",
      "Parameters: {'hidden_layer_sizes': (50,), 'activation': 'logistic', 'solver': 'adam', 'alpha': 0.001, 'max_iter': 200, 'random_state': 42, 'early_stopping': True}\n",
      "Acc train: 0.8634833333333334. Acc test: 0.8425. Epochs: 47\n",
      "--------------------\n",
      "--------------------\n",
      "Parameters: {'hidden_layer_sizes': (50,), 'activation': 'logistic', 'solver': 'adam', 'alpha': 1e-05, 'max_iter': 200, 'random_state': 42, 'early_stopping': True}\n",
      "Acc train: 0.8706833333333334. Acc test: 0.8442. Epochs: 61\n",
      "--------------------\n",
      "--------------------\n",
      "Parameters: {'hidden_layer_sizes': (50,), 'activation': 'relu', 'solver': 'adam', 'alpha': 0.0001, 'max_iter': 200, 'random_state': 42, 'early_stopping': True}\n",
      "Acc train: 0.8759333333333333. Acc test: 0.8519. Epochs: 45\n",
      "--------------------\n",
      "--------------------\n",
      "Parameters: {'hidden_layer_sizes': (50,), 'activation': 'relu', 'solver': 'adam', 'alpha': 0.001, 'max_iter': 200, 'random_state': 42, 'early_stopping': True}\n",
      "Acc train: 0.8857333333333334. Acc test: 0.85. Epochs: 60\n",
      "--------------------\n",
      "--------------------\n",
      "Parameters: {'hidden_layer_sizes': (50,), 'activation': 'relu', 'solver': 'adam', 'alpha': 1e-05, 'max_iter': 200, 'random_state': 42, 'early_stopping': True}\n",
      "Acc train: 0.8873666666666666. Acc test: 0.8505. Epochs: 57\n",
      "--------------------\n",
      "--------------------\n",
      "Parameters: {'hidden_layer_sizes': (100,), 'activation': 'logistic', 'solver': 'adam', 'alpha': 0.0001, 'max_iter': 200, 'random_state': 42, 'early_stopping': True}\n",
      "Acc train: 0.8906333333333334. Acc test: 0.8557. Epochs: 58\n",
      "--------------------\n",
      "--------------------\n",
      "Parameters: {'hidden_layer_sizes': (100,), 'activation': 'logistic', 'solver': 'adam', 'alpha': 0.001, 'max_iter': 200, 'random_state': 42, 'early_stopping': True}\n",
      "Acc train: 0.8887. Acc test: 0.855. Epochs: 58\n",
      "--------------------\n",
      "--------------------\n",
      "Parameters: {'hidden_layer_sizes': (100,), 'activation': 'logistic', 'solver': 'adam', 'alpha': 1e-05, 'max_iter': 200, 'random_state': 42, 'early_stopping': True}\n",
      "Acc train: 0.8906833333333334. Acc test: 0.8557. Epochs: 58\n",
      "--------------------\n",
      "--------------------\n",
      "Parameters: {'hidden_layer_sizes': (100,), 'activation': 'relu', 'solver': 'adam', 'alpha': 0.0001, 'max_iter': 200, 'random_state': 42, 'early_stopping': True}\n",
      "Acc train: 0.8908166666666667. Acc test: 0.8569. Epochs: 43\n",
      "--------------------\n",
      "--------------------\n",
      "Parameters: {'hidden_layer_sizes': (100,), 'activation': 'relu', 'solver': 'adam', 'alpha': 0.001, 'max_iter': 200, 'random_state': 42, 'early_stopping': True}\n",
      "Acc train: 0.8818166666666667. Acc test: 0.8566. Epochs: 35\n",
      "--------------------\n",
      "--------------------\n",
      "Parameters: {'hidden_layer_sizes': (100,), 'activation': 'relu', 'solver': 'adam', 'alpha': 1e-05, 'max_iter': 200, 'random_state': 42, 'early_stopping': True}\n",
      "Acc train: 0.8895. Acc test: 0.8556. Epochs: 43\n",
      "--------------------\n",
      "--------------------\n",
      "Parameters: {'hidden_layer_sizes': (200,), 'activation': 'logistic', 'solver': 'adam', 'alpha': 0.0001, 'max_iter': 200, 'random_state': 42, 'early_stopping': True}\n",
      "Acc train: 0.9272. Acc test: 0.8673. Epochs: 79\n",
      "--------------------\n",
      "--------------------\n",
      "Parameters: {'hidden_layer_sizes': (200,), 'activation': 'logistic', 'solver': 'adam', 'alpha': 0.001, 'max_iter': 200, 'random_state': 42, 'early_stopping': True}\n",
      "Acc train: 0.9031. Acc test: 0.8622. Epochs: 57\n",
      "--------------------\n",
      "--------------------\n",
      "Parameters: {'hidden_layer_sizes': (200,), 'activation': 'logistic', 'solver': 'adam', 'alpha': 1e-05, 'max_iter': 200, 'random_state': 42, 'early_stopping': True}\n",
      "Acc train: 0.92765. Acc test: 0.868. Epochs: 79\n",
      "--------------------\n",
      "--------------------\n",
      "Parameters: {'hidden_layer_sizes': (200,), 'activation': 'relu', 'solver': 'adam', 'alpha': 0.0001, 'max_iter': 200, 'random_state': 42, 'early_stopping': True}\n",
      "Acc train: 0.91745. Acc test: 0.8657. Epochs: 48\n",
      "--------------------\n",
      "--------------------\n",
      "Parameters: {'hidden_layer_sizes': (200,), 'activation': 'relu', 'solver': 'adam', 'alpha': 0.001, 'max_iter': 200, 'random_state': 42, 'early_stopping': True}\n",
      "Acc train: 0.9311. Acc test: 0.8664. Epochs: 63\n",
      "--------------------\n",
      "--------------------\n",
      "Parameters: {'hidden_layer_sizes': (200,), 'activation': 'relu', 'solver': 'adam', 'alpha': 1e-05, 'max_iter': 200, 'random_state': 42, 'early_stopping': True}\n",
      "Acc train: 0.9160666666666667. Acc test: 0.8658. Epochs: 48\n",
      "--------------------\n",
      "--------------------\n",
      "Parameters: {'hidden_layer_sizes': (200, 200), 'activation': 'logistic', 'solver': 'adam', 'alpha': 0.0001, 'max_iter': 200, 'random_state': 42, 'early_stopping': True}\n",
      "Acc train: 0.91785. Acc test: 0.8785. Epochs: 45\n",
      "--------------------\n",
      "--------------------\n",
      "Parameters: {'hidden_layer_sizes': (200, 200), 'activation': 'logistic', 'solver': 'adam', 'alpha': 0.001, 'max_iter': 200, 'random_state': 42, 'early_stopping': True}\n",
      "Acc train: 0.9054666666666666. Acc test: 0.8723. Epochs: 39\n",
      "--------------------\n",
      "--------------------\n",
      "Parameters: {'hidden_layer_sizes': (200, 200), 'activation': 'logistic', 'solver': 'adam', 'alpha': 1e-05, 'max_iter': 200, 'random_state': 42, 'early_stopping': True}\n",
      "Acc train: 0.90785. Acc test: 0.8731. Epochs: 39\n",
      "--------------------\n",
      "--------------------\n",
      "Parameters: {'hidden_layer_sizes': (200, 200), 'activation': 'relu', 'solver': 'adam', 'alpha': 0.0001, 'max_iter': 200, 'random_state': 42, 'early_stopping': True}\n",
      "Acc train: 0.91755. Acc test: 0.8792. Epochs: 30\n",
      "--------------------\n",
      "--------------------\n",
      "Parameters: {'hidden_layer_sizes': (200, 200), 'activation': 'relu', 'solver': 'adam', 'alpha': 0.001, 'max_iter': 200, 'random_state': 42, 'early_stopping': True}\n",
      "Acc train: 0.9248. Acc test: 0.8826. Epochs: 31\n",
      "--------------------\n",
      "--------------------\n",
      "Parameters: {'hidden_layer_sizes': (200, 200), 'activation': 'relu', 'solver': 'adam', 'alpha': 1e-05, 'max_iter': 200, 'random_state': 42, 'early_stopping': True}\n",
      "Acc train: 0.9263666666666667. Acc test: 0.8856. Epochs: 31\n",
      "--------------------\n"
     ]
    }
   ],
   "source": [
    "results = []\n",
    "for param in param_set:\n",
    "    classifier, score = experiment(param,  X_train_scaled, y_train_transformed, X_test_scaled, y_test_transformed)\n",
    "    results.append((classifier, score))"
   ]
  },
  {
   "cell_type": "code",
   "execution_count": 25,
   "metadata": {},
   "outputs": [
    {
     "data": {
      "text/plain": [
       "[(MLPClassifier(activation='logistic', early_stopping=True,\n",
       "                hidden_layer_sizes=(50,), random_state=42),\n",
       "  0.8513),\n",
       " (MLPClassifier(activation='logistic', alpha=0.001, early_stopping=True,\n",
       "                hidden_layer_sizes=(50,), random_state=42),\n",
       "  0.8425),\n",
       " (MLPClassifier(activation='logistic', alpha=1e-05, early_stopping=True,\n",
       "                hidden_layer_sizes=(50,), random_state=42),\n",
       "  0.8442),\n",
       " (MLPClassifier(early_stopping=True, hidden_layer_sizes=(50,), random_state=42),\n",
       "  0.8519),\n",
       " (MLPClassifier(alpha=0.001, early_stopping=True, hidden_layer_sizes=(50,),\n",
       "                random_state=42),\n",
       "  0.85),\n",
       " (MLPClassifier(alpha=1e-05, early_stopping=True, hidden_layer_sizes=(50,),\n",
       "                random_state=42),\n",
       "  0.8505),\n",
       " (MLPClassifier(activation='logistic', early_stopping=True, random_state=42),\n",
       "  0.8557),\n",
       " (MLPClassifier(activation='logistic', alpha=0.001, early_stopping=True,\n",
       "                random_state=42),\n",
       "  0.855),\n",
       " (MLPClassifier(activation='logistic', alpha=1e-05, early_stopping=True,\n",
       "                random_state=42),\n",
       "  0.8557),\n",
       " (MLPClassifier(early_stopping=True, random_state=42), 0.8569),\n",
       " (MLPClassifier(alpha=0.001, early_stopping=True, random_state=42), 0.8566),\n",
       " (MLPClassifier(alpha=1e-05, early_stopping=True, random_state=42), 0.8556),\n",
       " (MLPClassifier(activation='logistic', early_stopping=True,\n",
       "                hidden_layer_sizes=(200,), random_state=42),\n",
       "  0.8673),\n",
       " (MLPClassifier(activation='logistic', alpha=0.001, early_stopping=True,\n",
       "                hidden_layer_sizes=(200,), random_state=42),\n",
       "  0.8622),\n",
       " (MLPClassifier(activation='logistic', alpha=1e-05, early_stopping=True,\n",
       "                hidden_layer_sizes=(200,), random_state=42),\n",
       "  0.868),\n",
       " (MLPClassifier(early_stopping=True, hidden_layer_sizes=(200,), random_state=42),\n",
       "  0.8657),\n",
       " (MLPClassifier(alpha=0.001, early_stopping=True, hidden_layer_sizes=(200,),\n",
       "                random_state=42),\n",
       "  0.8664),\n",
       " (MLPClassifier(alpha=1e-05, early_stopping=True, hidden_layer_sizes=(200,),\n",
       "                random_state=42),\n",
       "  0.8658),\n",
       " (MLPClassifier(activation='logistic', early_stopping=True,\n",
       "                hidden_layer_sizes=(200, 200), random_state=42),\n",
       "  0.8785),\n",
       " (MLPClassifier(activation='logistic', alpha=0.001, early_stopping=True,\n",
       "                hidden_layer_sizes=(200, 200), random_state=42),\n",
       "  0.8723),\n",
       " (MLPClassifier(activation='logistic', alpha=1e-05, early_stopping=True,\n",
       "                hidden_layer_sizes=(200, 200), random_state=42),\n",
       "  0.8731),\n",
       " (MLPClassifier(early_stopping=True, hidden_layer_sizes=(200, 200),\n",
       "                random_state=42),\n",
       "  0.8792),\n",
       " (MLPClassifier(alpha=0.001, early_stopping=True, hidden_layer_sizes=(200, 200),\n",
       "                random_state=42),\n",
       "  0.8826),\n",
       " (MLPClassifier(alpha=1e-05, early_stopping=True, hidden_layer_sizes=(200, 200),\n",
       "                random_state=42),\n",
       "  0.8856)]"
      ]
     },
     "execution_count": 25,
     "metadata": {},
     "output_type": "execute_result"
    }
   ],
   "source": [
    "results"
   ]
  },
  {
   "cell_type": "code",
   "execution_count": 28,
   "metadata": {},
   "outputs": [
    {
     "name": "stdout",
     "output_type": "stream",
     "text": [
      "Best classifier: MLPClassifier(alpha=1e-05, early_stopping=True, hidden_layer_sizes=(200, 200),\n",
      "              random_state=42). Test acc: 0.8856\n"
     ]
    }
   ],
   "source": [
    "(best_classifier, best_test_acc) = max(results,key=lambda item:item[1])\n",
    "print(f\"Best classifier: {best_classifier}. Test acc: {best_test_acc}\")"
   ]
  },
  {
   "cell_type": "code",
   "execution_count": 29,
   "metadata": {},
   "outputs": [],
   "source": [
    "from sklearn.metrics import confusion_matrix\n",
    "y_true = y_test_transformed\n",
    "y_predicted = best_classifier.predict(X_test_scaled)\n",
    "\n",
    "y_true_label = one_hot_y.inverse_transform(y_true)\n",
    "y_predicted_label = one_hot_y.inverse_transform(y_predicted)\n",
    "\n"
   ]
  },
  {
   "cell_type": "code",
   "execution_count": 30,
   "metadata": {},
   "outputs": [],
   "source": [
    "cm = confusion_matrix(y_true_label, y_predicted_label, labels=one_hot_y.categories_[0])"
   ]
  },
  {
   "cell_type": "code",
   "execution_count": 35,
   "metadata": {},
   "outputs": [
    {
     "data": {
      "image/png": "[encoded data removed]",
      "text/plain": [
       "<Figure size 432x288 with 2 Axes>"
      ]
     },
     "metadata": {
      "needs_background": "light"
     },
     "output_type": "display_data"
    }
   ],
   "source": [
    "import matplotlib.pyplot as plt\n",
    "from sklearn.metrics import ConfusionMatrixDisplay\n",
    "\n",
    "\n",
    "disp = ConfusionMatrixDisplay(confusion_matrix=cm,\n",
    "                                  display_labels=one_hot_y.categories_[0])\n",
    "disp.plot(include_values=True,\n",
    "          cmap=plt.cm.Blues, ax=None, \n",
    "          xticks_rotation='horizontal',\n",
    "          values_format=None)\n",
    "plt.savefig(fname='confusion_matrix', dpi=300)\n",
    "plt.show()"
   ]
  },
  {
   "cell_type": "code",
   "execution_count": null,
   "metadata": {},
   "outputs": [],
   "source": []
  }
 ],
 "metadata": {
  "kernelspec": {
   "display_name": "Python 3",
   "language": "python",
   "name": "python3"
  },
  "language_info": {
   "codemirror_mode": {
    "name": "ipython",
    "version": 3
   },
   "file_extension": ".py",
   "mimetype": "text/x-python",
   "name": "python",
   "nbconvert_exporter": "python",
   "pygments_lexer": "ipython3",
   "version": "3.8.6"
  }
 },
 "nbformat": 4,
 "nbformat_minor": 4
}
